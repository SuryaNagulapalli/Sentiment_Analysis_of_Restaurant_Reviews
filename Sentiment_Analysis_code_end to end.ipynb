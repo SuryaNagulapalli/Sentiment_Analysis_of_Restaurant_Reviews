{
 "cells": [
  {
   "cell_type": "code",
   "execution_count": null,
   "id": "d545479d-f24b-48b3-ab7d-cc5238806d83",
   "metadata": {},
   "outputs": [],
   "source": [
    "#Problem statement\n",
    "#Develop a sentiment analysis model to classify restarunt reviews as positve or negative"
   ]
  },
  {
   "cell_type": "code",
   "execution_count": null,
   "id": "10134d2a-b023-407d-a08b-5fe5302b0942",
   "metadata": {},
   "outputs": [],
   "source": [
    "#Description\n",
    "# with the rapid growth of online platforms for sharing opinions and reviews,restarunts often rely \n",
    "#on the customer feedback to imporve their services and attract   a new customers.\n",
    "# Analyzing the sentiment of these reviews can provide valuable insights into customer satisfaction."
   ]
  },
  {
   "cell_type": "code",
   "execution_count": null,
   "id": "bf1e023c-4fe5-40ee-9399-05731d69d164",
   "metadata": {},
   "outputs": [],
   "source": [
    "pip install pandas"
   ]
  },
  {
   "cell_type": "code",
   "execution_count": null,
   "id": "25698800-be4a-4347-a06e-3d6c7287020f",
   "metadata": {},
   "outputs": [],
   "source": [
    "import pandas as pd"
   ]
  },
  {
   "cell_type": "code",
   "execution_count": null,
   "id": "7ce44749-5bf7-41f1-864f-4ecccf280030",
   "metadata": {},
   "outputs": [],
   "source": [
    "data = pd.read_csv('Reviews.csv')"
   ]
  },
  {
   "cell_type": "code",
   "execution_count": null,
   "id": "04804db9-d2cb-4990-9719-57d3e81348fa",
   "metadata": {},
   "outputs": [],
   "source": [
    "data"
   ]
  },
  {
   "cell_type": "code",
   "execution_count": null,
   "id": "586e56b0-0c39-4890-8ddc-cf29e9a77f42",
   "metadata": {},
   "outputs": [],
   "source": [
    "data.head(3) # Top 5 rows of the data set"
   ]
  },
  {
   "cell_type": "code",
   "execution_count": null,
   "id": "addf1ac1-df20-4c2d-b415-ba6c6d9f1fb8",
   "metadata": {},
   "outputs": [],
   "source": [
    "data.tail(1) # Last 5 rows of the data set"
   ]
  },
  {
   "cell_type": "code",
   "execution_count": null,
   "id": "da7d2567-9709-48ec-bb6f-30b69edf2763",
   "metadata": {},
   "outputs": [],
   "source": [
    "data.info() # information of the dat set like , data type , memory usage"
   ]
  },
  {
   "cell_type": "code",
   "execution_count": null,
   "id": "bc1b3b77-b393-4c0e-b114-50d6afd9fbef",
   "metadata": {},
   "outputs": [],
   "source": [
    "data.describe() # stastical information of the data set"
   ]
  },
  {
   "cell_type": "code",
   "execution_count": null,
   "id": "933eb419-afd6-488f-8770-ebaaa41ceff8",
   "metadata": {},
   "outputs": [],
   "source": [
    "#checking the null values of the data set\n",
    "data.isnull().sum()"
   ]
  },
  {
   "cell_type": "code",
   "execution_count": null,
   "id": "befa395d-c21e-44ab-821c-b1407a248d2e",
   "metadata": {},
   "outputs": [],
   "source": [
    "data.duplicated()"
   ]
  },
  {
   "cell_type": "code",
   "execution_count": null,
   "id": "3e8d40a2-c3c2-40ba-9a5a-a2e7b76a316a",
   "metadata": {},
   "outputs": [],
   "source": [
    "#checking the value counts\n",
    "value_counts = data['Liked'].value_counts()\n",
    "print(value_counts)"
   ]
  },
  {
   "cell_type": "code",
   "execution_count": null,
   "id": "68053bcc-4579-4c01-a85b-ea120a7056ad",
   "metadata": {},
   "outputs": [],
   "source": [
    "pip install matplotlib"
   ]
  },
  {
   "cell_type": "code",
   "execution_count": null,
   "id": "59885433-9788-486f-8090-20353d8a5883",
   "metadata": {},
   "outputs": [],
   "source": [
    "import matplotlib.pyplot as plt\n",
    "import seaborn as sns"
   ]
  },
  {
   "cell_type": "code",
   "execution_count": null,
   "id": "a81beff4-5de3-4f2f-b18a-98fd0b4826a1",
   "metadata": {},
   "outputs": [],
   "source": [
    "value_counts.plot(kind = 'bar' , color = ['blue', 'green'])\n",
    "plt.title(\"Sentiment value counts\")\n",
    "plt.xlabel('Liked')\n",
    "plt.ylabel('Count')\n",
    "plt.xticks(ticks=[0,1] , labels=['Postive','Negative'],rotation=0)\n",
    "plt.show()"
   ]
  },
  {
   "cell_type": "code",
   "execution_count": null,
   "id": "b6aa8a22-9b22-47cd-bc45-f435b4a69f87",
   "metadata": {},
   "outputs": [],
   "source": [
    "from wordcloud import WordCloud"
   ]
  },
  {
   "cell_type": "code",
   "execution_count": null,
   "id": "21f4e259-1a18-41ed-8c47-854bac8eecd9",
   "metadata": {},
   "outputs": [],
   "source": [
    "combined_text = \" \".join(data['Review'])\n",
    "wordcloud = WordCloud(width = 800 , height = 400 ,background_color = 'white').generate(combined_text)\n",
    "plt.figure(figsize=(10,6))\n",
    "plt.imshow(wordcloud, interpolation = 'bilinear')\n",
    "plt.axis('off')\n",
    "plt.title('Word Cloud of Reviews')\n",
    "plt.show()"
   ]
  },
  {
   "cell_type": "code",
   "execution_count": null,
   "id": "10a9014b-2ad3-46b6-be1c-8d633238db81",
   "metadata": {},
   "outputs": [],
   "source": [
    "from collections import Counter"
   ]
  },
  {
   "cell_type": "code",
   "execution_count": null,
   "id": "e457e5d9-8a47-4f7a-b38d-0793994f1804",
   "metadata": {},
   "outputs": [],
   "source": [
    "target_words = ['food','place','restaurant']\n",
    "all_words = \" \".join(data['Review']).lower().split()\n",
    "word_counts = Counter(all_words)\n",
    "target_word_counts = {word:word_counts[word] for word in target_words}\n",
    "plt.figure(figsize=(8,6))\n",
    "plt.bar(target_word_counts.keys(),target_word_counts.values() , color = ['blue','green','orange'])\n",
    "plt.xlabel('words')\n",
    "plt.ylabel('Frequenecy')\n",
    "plt.title('Frequency of specific words in Reviews')\n",
    "plt.show()"
   ]
  },
  {
   "cell_type": "code",
   "execution_count": null,
   "id": "62eb9aad-9e15-4ba9-a430-bc21592c471d",
   "metadata": {},
   "outputs": [],
   "source": [
    "#Text preprocessing"
   ]
  },
  {
   "cell_type": "code",
   "execution_count": null,
   "id": "7b1ca840-2c14-469b-9280-405a10551dad",
   "metadata": {},
   "outputs": [],
   "source": [
    "#convert a data set into lower case\n",
    "lowercased_text = data['Review'].str.lower()"
   ]
  },
  {
   "cell_type": "code",
   "execution_count": null,
   "id": "4fc537ea-6d78-4822-a3c8-1fe595a893a9",
   "metadata": {},
   "outputs": [],
   "source": [
    "print(lowercased_text)"
   ]
  },
  {
   "cell_type": "code",
   "execution_count": null,
   "id": "6486ea81-96a6-400f-b663-d6482c65cc7b",
   "metadata": {},
   "outputs": [],
   "source": [
    "#tokinization\n",
    "from nltk.tokenize import word_tokenize"
   ]
  },
  {
   "cell_type": "code",
   "execution_count": null,
   "id": "7047ed9c",
   "metadata": {},
   "outputs": [],
   "source": [
    "import nltk\n",
    "\n",
    "nltk.download('punkt')\n"
   ]
  },
  {
   "cell_type": "code",
   "execution_count": null,
   "id": "137a30e7-29b5-48b7-832d-4cd5d923ac81",
   "metadata": {},
   "outputs": [],
   "source": [
    "data['Tokens'] = data['Review'].apply(word_tokenize)"
   ]
  },
  {
   "cell_type": "code",
   "execution_count": null,
   "id": "a8078d2e-d9c1-4817-a315-a6354876e241",
   "metadata": {},
   "outputs": [],
   "source": [
    "print(data['Tokens'])"
   ]
  },
  {
   "cell_type": "code",
   "execution_count": null,
   "id": "2621c33b-c4df-4cec-9e41-9d7e7dbf687e",
   "metadata": {},
   "outputs": [],
   "source": [
    "data.info()"
   ]
  },
  {
   "cell_type": "code",
   "execution_count": null,
   "id": "4f6aa820-8b58-49e3-9c4b-284f9788365f",
   "metadata": {},
   "outputs": [],
   "source": [
    "data['Review'].value_counts()"
   ]
  },
  {
   "cell_type": "code",
   "execution_count": null,
   "id": "a30cf4e3-d071-4e05-9a81-31c9261bceea",
   "metadata": {},
   "outputs": [],
   "source": [
    "import string\n"
   ]
  },
  {
   "cell_type": "code",
   "execution_count": null,
   "id": "bbeaf7a1-aa3e-43a7-b201-9637dd1d5610",
   "metadata": {},
   "outputs": [],
   "source": [
    "data['Review'] = data['Review'].str.replace(f\"[{string.punctuation}]\",\" \",regex = True)"
   ]
  },
  {
   "cell_type": "code",
   "execution_count": null,
   "id": "57f65f04-c7e7-4671-a45b-684c8fb76a3e",
   "metadata": {},
   "outputs": [],
   "source": [
    "print(data['Review'])"
   ]
  },
  {
   "cell_type": "code",
   "execution_count": null,
   "id": "8b6db2a5-1aee-440d-8f5a-5737da093d6e",
   "metadata": {},
   "outputs": [],
   "source": [
    "data['Review'].value_counts()"
   ]
  },
  {
   "cell_type": "code",
   "execution_count": null,
   "id": "230d36a0-58c1-4e66-a19a-dd74efc51213",
   "metadata": {},
   "outputs": [],
   "source": [
    "#Removing the stop words like this, is , are ,was \n",
    "from nltk.corpus import stopwords"
   ]
  },
  {
   "cell_type": "code",
   "execution_count": null,
   "id": "9a215328",
   "metadata": {},
   "outputs": [],
   "source": [
    "import nltk\n",
    "\n",
    "nltk.download('stopwords')\n"
   ]
  },
  {
   "cell_type": "code",
   "execution_count": null,
   "id": "3f33352d-2624-46a7-a0d6-5d3f8a6b6ec7",
   "metadata": {},
   "outputs": [],
   "source": [
    "stop_words = set(stopwords.words('english'))"
   ]
  },
  {
   "cell_type": "code",
   "execution_count": null,
   "id": "c4a0e980-f1be-4713-8e75-95ae177f5edf",
   "metadata": {},
   "outputs": [],
   "source": [
    "data['Tokens'] = data['Review'].apply(lambda x: [word for word in word_tokenize(x) if word not in stop_words])"
   ]
  },
  {
   "cell_type": "code",
   "execution_count": null,
   "id": "129f7b09-0d66-4869-9704-1a32f4dfe5b8",
   "metadata": {},
   "outputs": [],
   "source": [
    "print(data['Tokens'])"
   ]
  },
  {
   "cell_type": "code",
   "execution_count": null,
   "id": "9b4e630e-22bc-47e9-abe8-a9be65812cdd",
   "metadata": {},
   "outputs": [],
   "source": [
    "#stemming\n",
    "#stemming is the process of reducing the a word into root or base word form by removig suffix \n",
    "#example : driving stemmed is drive"
   ]
  },
  {
   "cell_type": "code",
   "execution_count": null,
   "id": "714af462-a9cc-4721-b8c2-18338e6111d1",
   "metadata": {},
   "outputs": [],
   "source": [
    "#Stemming\n",
    "from nltk.stem import PorterStemmer\n",
    "from nltk.tokenize import word_tokenize"
   ]
  },
  {
   "cell_type": "code",
   "execution_count": null,
   "id": "04041979-5d80-4b67-b1e3-b503e75c9f27",
   "metadata": {},
   "outputs": [],
   "source": [
    "stemmer = PorterStemmer()"
   ]
  },
  {
   "cell_type": "code",
   "execution_count": null,
   "id": "e78c227e-a481-4ea1-a645-bed34b652023",
   "metadata": {},
   "outputs": [],
   "source": [
    "data['stemmed'] = data['Review'].apply(lambda x: ' '.join([stemmer.stem(word) for word in word_tokenize(x)]))"
   ]
  },
  {
   "cell_type": "code",
   "execution_count": null,
   "id": "a1049395-6967-4266-b7da-f9b1778d7c7d",
   "metadata": {},
   "outputs": [],
   "source": [
    "print(data['stemmed'])"
   ]
  },
  {
   "cell_type": "code",
   "execution_count": null,
   "id": "1c8c4c41-ae25-4aee-9b62-70edbf456c6f",
   "metadata": {},
   "outputs": [],
   "source": [
    "#Lemmatization\n",
    "#Lemmatization is the process transforming a word into its base or dictionary form\n",
    "#example is better is lemmtized to good "
   ]
  },
  {
   "cell_type": "code",
   "execution_count": null,
   "id": "1102c1fa-4db4-4897-b666-78607dbc28e1",
   "metadata": {},
   "outputs": [],
   "source": [
    "import nltk\n",
    "nltk.download('wordnet')"
   ]
  },
  {
   "cell_type": "code",
   "execution_count": null,
   "id": "4cb919e5-5aee-4094-be5c-235a9b57680b",
   "metadata": {},
   "outputs": [],
   "source": [
    "from nltk.stem import WordNetLemmatizer\n",
    "from nltk.tokenize import word_tokenize\n",
    "from nltk.corpus import wordnet"
   ]
  },
  {
   "cell_type": "code",
   "execution_count": null,
   "id": "cc4f880e-a5d3-4014-bf0a-c823445164e5",
   "metadata": {},
   "outputs": [],
   "source": [
    "lemmatizer = WordNetLemmatizer()"
   ]
  },
  {
   "cell_type": "code",
   "execution_count": null,
   "id": "a71a9f9b-b8ce-431f-bc20-56d0d8be51d4",
   "metadata": {},
   "outputs": [],
   "source": [
    "data['Lemmatized'] = data['Review'].apply(lambda x :' '.join([lemmatizer.lemmatize(word , pos = wordnet.VERB) for word in word_tokenize(x)]))"
   ]
  },
  {
   "cell_type": "code",
   "execution_count": null,
   "id": "21cf6f57-4822-4c06-a287-538b33a85b2b",
   "metadata": {},
   "outputs": [],
   "source": [
    "print(data['Lemmatized'])"
   ]
  },
  {
   "cell_type": "code",
   "execution_count": null,
   "id": "cdc351b8-171f-4ace-9da6-e914a31e4106",
   "metadata": {},
   "outputs": [],
   "source": [
    "#Removing the numbers from reviews\n",
    "import re\n",
    "data['No_Numbers'] = data['Review'].apply(lambda x : re.sub(r'\\d+',' ' ,x))"
   ]
  },
  {
   "cell_type": "code",
   "execution_count": null,
   "id": "88481d12-322a-4c6e-b0f4-78a8c4640e65",
   "metadata": {},
   "outputs": [],
   "source": [
    "print(data['No_Numbers'])"
   ]
  },
  {
   "cell_type": "code",
   "execution_count": null,
   "id": "9860a24b-84c0-462e-b4a6-d71ddb8069c6",
   "metadata": {},
   "outputs": [],
   "source": [
    "#removing special characters like @ # %,*\n",
    "data['cleaned'] = data['Review'].apply(lambda x: re.sub(r'[^A-Za-z0-9\\s]','' ,x))"
   ]
  },
  {
   "cell_type": "code",
   "execution_count": null,
   "id": "b14eafc6-392b-48f4-b1d7-46f4c634dc61",
   "metadata": {},
   "outputs": [],
   "source": [
    "print(data['cleaned'])"
   ]
  },
  {
   "cell_type": "code",
   "execution_count": null,
   "id": "83785dad-4083-4b3b-9083-4fe2b60be65a",
   "metadata": {},
   "outputs": [],
   "source": [
    "#expanding method\n",
    "# don't eat food in this hotel , when we apply expanted text it will convert into do not eat food in this hotel"
   ]
  },
  {
   "cell_type": "code",
   "execution_count": null,
   "id": "280df279",
   "metadata": {},
   "outputs": [],
   "source": [
    "pip install contractions"
   ]
  },
  {
   "cell_type": "code",
   "execution_count": null,
   "id": "ed946166-0f1f-4426-8681-91ab8eefe5d2",
   "metadata": {},
   "outputs": [],
   "source": [
    "import contractions\n",
    "data['Expanded'] = data['Review'].apply(contractions.fix)\n"
   ]
  },
  {
   "cell_type": "code",
   "execution_count": null,
   "id": "e9f47e49-5964-4e5e-a4b9-e34f49b3def2",
   "metadata": {},
   "outputs": [],
   "source": [
    "print(data['Expanded'])"
   ]
  },
  {
   "cell_type": "code",
   "execution_count": null,
   "id": "3891b7cb-aa79-4d55-8a97-0f1e16b457f5",
   "metadata": {},
   "outputs": [],
   "source": [
    "#Removing emojis\n",
    "!pip install emoji"
   ]
  },
  {
   "cell_type": "code",
   "execution_count": null,
   "id": "09b2d17f-7fdb-440a-8f05-f429de59a53d",
   "metadata": {},
   "outputs": [],
   "source": [
    "import emoji\n",
    "data['emoji'] = data['Review'].apply(emoji.demojize)"
   ]
  },
  {
   "cell_type": "code",
   "execution_count": null,
   "id": "76b22635-b88b-4854-ad60-ac365d457b30",
   "metadata": {},
   "outputs": [],
   "source": [
    "print(data['emoji'])"
   ]
  },
  {
   "cell_type": "code",
   "execution_count": null,
   "id": "34cce14e-cec4-4c1c-9a98-59bb51c33528",
   "metadata": {},
   "outputs": [],
   "source": [
    "# removing liks from review_ text\n",
    "# food is good vist www.abchotel.in"
   ]
  },
  {
   "cell_type": "code",
   "execution_count": null,
   "id": "1a24b1fd-5917-40d1-9e0c-bb91ce40114e",
   "metadata": {},
   "outputs": [],
   "source": [
    "!pip install beautifulsoup4"
   ]
  },
  {
   "cell_type": "code",
   "execution_count": null,
   "id": "7e59285b-b6fc-44c2-bb1d-b5dbb0657063",
   "metadata": {},
   "outputs": [],
   "source": [
    "from bs4 import BeautifulSoup"
   ]
  },
  {
   "cell_type": "code",
   "execution_count": null,
   "id": "afd8c021-3c64-4f54-acd1-1ea762fc5ff1",
   "metadata": {},
   "outputs": [],
   "source": [
    "data['cleaned'] = data['Review'].apply(lambda x: BeautifulSoup(x,\"html.parser\").get_text())"
   ]
  },
  {
   "cell_type": "code",
   "execution_count": null,
   "id": "7f19cfc4-0021-4206-b9c2-c824fc742157",
   "metadata": {},
   "outputs": [],
   "source": [
    "print(data['cleaned'])"
   ]
  },
  {
   "cell_type": "code",
   "execution_count": null,
   "id": "71b246a1",
   "metadata": {},
   "outputs": [],
   "source": [
    "pip install scikit-learn\n"
   ]
  },
  {
   "cell_type": "code",
   "execution_count": null,
   "id": "2a9b96df",
   "metadata": {},
   "outputs": [],
   "source": [
    "!pip install scikit-learn\n"
   ]
  },
  {
   "cell_type": "code",
   "execution_count": null,
   "id": "402fac29-7140-4a8f-a48c-390f1317d2ef",
   "metadata": {},
   "outputs": [],
   "source": [
    "#TF IDF VECTORIZER\n",
    "from sklearn.feature_extraction.text import TfidfVectorizer\n",
    "vectorizer = TfidfVectorizer()"
   ]
  },
  {
   "cell_type": "code",
   "execution_count": null,
   "id": "a5316ca5-f016-4320-aef9-cd609edc4b71",
   "metadata": {},
   "outputs": [],
   "source": [
    "X = vectorizer.fit_transform(data['Review'])\n",
    "print(X.toarray())"
   ]
  },
  {
   "cell_type": "code",
   "execution_count": null,
   "id": "686508c9-5bcf-447f-921e-cf73531e4618",
   "metadata": {},
   "outputs": [],
   "source": [
    "#bulding a machine learning model\n",
    "from sklearn.model_selection import train_test_split\n",
    "from sklearn.naive_bayes import MultinomialNB\n",
    "from sklearn.metrics import accuracy_score,classification_report\n"
   ]
  },
  {
   "cell_type": "code",
   "execution_count": null,
   "id": "5624915a-cff5-4085-bc6b-1333c700a24a",
   "metadata": {},
   "outputs": [],
   "source": [
    "vectorizer = TfidfVectorizer()"
   ]
  },
  {
   "cell_type": "code",
   "execution_count": null,
   "id": "66c9f760-adc7-4665-b7bd-5286dfed23e5",
   "metadata": {},
   "outputs": [],
   "source": [
    "X = vectorizer.fit_transform(data['Review'])\n",
    "y = data['Liked']"
   ]
  },
  {
   "cell_type": "code",
   "execution_count": null,
   "id": "beb6899c-97f9-4ad6-9b39-13e2d81807f5",
   "metadata": {},
   "outputs": [],
   "source": [
    "X_train,X_test,y_train,y_test = train_test_split(X,y , test_size = 0.2 , random_state = 42)"
   ]
  },
  {
   "cell_type": "code",
   "execution_count": null,
   "id": "d4cd50d2-0531-4ea1-8e1e-b0e5c4f8f147",
   "metadata": {},
   "outputs": [],
   "source": [
    "model = MultinomialNB() \n",
    "model.fit(X_train,y_train)"
   ]
  },
  {
   "cell_type": "code",
   "execution_count": null,
   "id": "83894279-22e1-4a8d-9426-1c0327634327",
   "metadata": {},
   "outputs": [],
   "source": [
    "y_pred = model.predict(X_test)"
   ]
  },
  {
   "cell_type": "code",
   "execution_count": null,
   "id": "026b0039-fbe1-4b87-b726-1bc604b37047",
   "metadata": {},
   "outputs": [],
   "source": [
    "accuracy = accuracy_score(y_test,y_pred)"
   ]
  },
  {
   "cell_type": "code",
   "execution_count": null,
   "id": "a5fa3939-6b06-45f3-b0e4-3f5297b78cbc",
   "metadata": {},
   "outputs": [],
   "source": [
    "report = classification_report(y_test,y_pred)"
   ]
  },
  {
   "cell_type": "code",
   "execution_count": null,
   "id": "c468a581-6b62-48f0-b08f-76411c6b5f3b",
   "metadata": {},
   "outputs": [],
   "source": [
    "print(f'Accuracy {accuracy}')"
   ]
  },
  {
   "cell_type": "code",
   "execution_count": null,
   "id": "c285b1fa-eebe-490b-add3-3932b51c0d78",
   "metadata": {},
   "outputs": [],
   "source": [
    "print(f'Classfication Report:')\n",
    "print(report)"
   ]
  },
  {
   "cell_type": "code",
   "execution_count": null,
   "id": "029ddb0e-2f18-4f41-a6cb-462b31fc59f3",
   "metadata": {},
   "outputs": [],
   "source": [
    "#prediction of new review\n",
    "def preprocess_review(review):\n",
    "    review = review.lower()\n",
    "    review = BeautifulSoup(review,\"html.parser\").get_text()\n",
    "    review = re.sub(f\"[{string.punctuation}]\",\" \",review)\n",
    "    review = contractions.fix(review)\n",
    "    review = emoji.demojize(review)\n",
    "    tokens = word_tokenize(review)\n",
    "    stop_words =set(stopwords.words('english'))\n",
    "    tokens = [word for word in tokens if word not in stop_words]\n",
    "    stemmer = PorterStemmer()\n",
    "    stemmed_tokens = [stemmer.stem(word) for word in tokens]\n",
    "    lemmatizer = WordNetLemmatizer()\n",
    "    lemmatized_tokens = [lemmatizer.lemmatize(word, pos = 'v') for word in tokens]\n",
    "    cleaned_review = ' '.join(lemmatized_tokens)\n",
    "    return cleaned_review"
   ]
  },
  {
   "cell_type": "code",
   "execution_count": null,
   "id": "2e5f097b-0835-40b3-b935-72d9fb0bd057",
   "metadata": {},
   "outputs": [],
   "source": [
    "#new review prediction\n",
    "new_review = input(\"Enter a review\")\n",
    "cleaned_review = preprocess_review(new_review)\n",
    "new_review_vectorized = vectorizer.transform([cleaned_review])\n",
    "prediction = model.predict(new_review_vectorized)\n",
    "if prediction[0] == 1:\n",
    "    print(\"The review is predicted postive\")\n",
    "else:\n",
    "    print(\"The review is predicted negative\")"
   ]
  }
 ],
 "metadata": {
  "kernelspec": {
   "display_name": "Python 3 (ipykernel)",
   "language": "python",
   "name": "python3"
  },
  "language_info": {
   "codemirror_mode": {
    "name": "ipython",
    "version": 3
   },
   "file_extension": ".py",
   "mimetype": "text/x-python",
   "name": "python",
   "nbconvert_exporter": "python",
   "pygments_lexer": "ipython3",
   "version": "3.12.4"
  }
 },
 "nbformat": 4,
 "nbformat_minor": 5
}
